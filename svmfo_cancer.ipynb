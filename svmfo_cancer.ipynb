{
  "nbformat": 4,
  "nbformat_minor": 0,
  "metadata": {
    "colab": {
      "provenance": [],
      "authorship_tag": "ABX9TyM2do0mUGyWFpZDrY/SgCi8",
      "include_colab_link": true
    },
    "kernelspec": {
      "name": "python3",
      "display_name": "Python 3"
    },
    "language_info": {
      "name": "python"
    }
  },
  "cells": [
    {
      "cell_type": "markdown",
      "metadata": {
        "id": "view-in-github",
        "colab_type": "text"
      },
      "source": [
        "<a href=\"https://colab.research.google.com/github/ginareigns/svm_model_cancer/blob/main/svmfo_cancer.ipynb\" target=\"_parent\"><img src=\"https://colab.research.google.com/assets/colab-badge.svg\" alt=\"Open In Colab\"/></a>"
      ]
    },
    {
      "cell_type": "code",
      "execution_count": 1,
      "metadata": {
        "id": "9NgwbMzwh0S5"
      },
      "outputs": [],
      "source": [
        "import sklearn\n",
        "\n",
        "from sklearn import datasets\n",
        "# the sklearn module has inbuilt datasets so you can use them after importing the library\n",
        "\n",
        "\n",
        "from sklearn import svm\n",
        "# imports the SVM algorithm from the scikit-learn library in Python.\n",
        "#  Once the SVM algorithm is imported, you can create an SVM model object and use it for classification or regression tasks, depending on the problem you are trying to solve.\n",
        "\n",
        "\n",
        "from sklearn import metrics\n",
        "# imports the module \"metrics\" from the scikit-learn library in Python.\n",
        "# The \"metrics\" module contains various functions for evaluating the performance of machine learning models, such as classification accuracy, precision, recall, F1-score, confusion matrix, ROC curve, AUC (Area Under the Curve).\n",
        "\n",
        "from sklearn.neighbors import KNeighborsClassifier\n",
        "#  imports the K-Nearest Neighbors (KNN) classifier algorithm from the scikit-learn library in Python.\n",
        "# we going to use k-nearest to compare which works best among the two models"
      ]
    },
    {
      "cell_type": "code",
      "source": [
        "# loading the cancer dataset\n",
        "cancer = datasets.load_breast_cancer()\n"
      ],
      "metadata": {
        "id": "V95EEzA3n6bl"
      },
      "execution_count": 2,
      "outputs": []
    },
    {
      "cell_type": "code",
      "source": [
        "# cancer.feature_names\n",
        "# These features represent various measurements of cell nuclei present in the digitized image of a breast mass, and are used to predict whether the mass is benign or malignant.\n",
        "\n",
        "# cancer.target_names\n",
        "#  list of target names, which are 'benign' and 'malignant'\n"
      ],
      "metadata": {
        "colab": {
          "base_uri": "https://localhost:8080/"
        },
        "id": "H6RnWmqtofaj",
        "outputId": "edfd820a-f9d2-4950-f121-67e0fe702780"
      },
      "execution_count": 4,
      "outputs": [
        {
          "output_type": "stream",
          "name": "stdout",
          "text": [
            "['malignant' 'benign']\n"
          ]
        }
      ]
    },
    {
      "cell_type": "code",
      "source": [
        "x = cancer.data\n",
        "# The line of code x = cancer.data assigns the feature matrix of the cancer dataset to the variable x.\n",
        "#  The feature matrix contains the values of all the features for each instance in the dataset.\n",
        "\n",
        "y = cancer.target\n",
        "# The line of code x = cancer.data assigns the feature matrix of the cancer dataset to the variable x. \n",
        "# The feature matrix contains the values of all the features for each instance in the dataset.\n",
        "\n"
      ],
      "metadata": {
        "id": "KBgppcrEpw6V"
      },
      "execution_count": 8,
      "outputs": []
    },
    {
      "cell_type": "code",
      "source": [
        "x_train, x_test, y_train, y_test = sklearn.model_selection.train_test_split(x, y, test_size=0.2)\n",
        "# sklearn.model_selection.train_test_split(x, y, test_size=0.2) performs a train-test split on the breast cancer diagnostic dataset.\n",
        "# The train_test_split function from the sklearn.model_selection module randomly splits the x feature matrix and y target variable into two sets: a training set and a test set. \n",
        "# The training set is used to train the machine learning model, while the test set is used to evaluate its performance."
      ],
      "metadata": {
        "id": "RnFPWbPWry2k"
      },
      "execution_count": 10,
      "outputs": []
    },
    {
      "cell_type": "code",
      "source": [
        "clf = svm.SVC(kernel=\"linear\")\n",
        "# The line of code clf = svm.SVC(kernel=\"linear\") creates a Support Vector Machine (SVM) classifier with a linear kernel.\n",
        "# The svm module in scikit-learn contains the implementation of the SVM algorithm for classification tasks.\n",
        "#  The SVC class is used to create an SVM classifier, and the kernel parameter specifies the type of kernel function to be used."
      ],
      "metadata": {
        "id": "FY6I4I4jszQS"
      },
      "execution_count": 12,
      "outputs": []
    },
    {
      "cell_type": "code",
      "source": [
        "clf.fit(x_train, y_train)\n",
        "#  trains the SVM classifier clf on the training data x_train and y_train.\n",
        "# The fit() method in scikit-learn is used to train a machine learning model on a training dataset. \n",
        "# In this case, the fit() method is called on the clf object, which is an instance of the SVC class from the svm module."
      ],
      "metadata": {
        "colab": {
          "base_uri": "https://localhost:8080/",
          "height": 75
        },
        "id": "RTfZdNnHtDnS",
        "outputId": "d4cfa77e-2ac9-4355-c62b-7be06681f8f5"
      },
      "execution_count": 13,
      "outputs": [
        {
          "output_type": "execute_result",
          "data": {
            "text/plain": [
              "SVC(kernel='linear')"
            ],
            "text/html": [
              "<style>#sk-container-id-1 {color: black;background-color: white;}#sk-container-id-1 pre{padding: 0;}#sk-container-id-1 div.sk-toggleable {background-color: white;}#sk-container-id-1 label.sk-toggleable__label {cursor: pointer;display: block;width: 100%;margin-bottom: 0;padding: 0.3em;box-sizing: border-box;text-align: center;}#sk-container-id-1 label.sk-toggleable__label-arrow:before {content: \"▸\";float: left;margin-right: 0.25em;color: #696969;}#sk-container-id-1 label.sk-toggleable__label-arrow:hover:before {color: black;}#sk-container-id-1 div.sk-estimator:hover label.sk-toggleable__label-arrow:before {color: black;}#sk-container-id-1 div.sk-toggleable__content {max-height: 0;max-width: 0;overflow: hidden;text-align: left;background-color: #f0f8ff;}#sk-container-id-1 div.sk-toggleable__content pre {margin: 0.2em;color: black;border-radius: 0.25em;background-color: #f0f8ff;}#sk-container-id-1 input.sk-toggleable__control:checked~div.sk-toggleable__content {max-height: 200px;max-width: 100%;overflow: auto;}#sk-container-id-1 input.sk-toggleable__control:checked~label.sk-toggleable__label-arrow:before {content: \"▾\";}#sk-container-id-1 div.sk-estimator input.sk-toggleable__control:checked~label.sk-toggleable__label {background-color: #d4ebff;}#sk-container-id-1 div.sk-label input.sk-toggleable__control:checked~label.sk-toggleable__label {background-color: #d4ebff;}#sk-container-id-1 input.sk-hidden--visually {border: 0;clip: rect(1px 1px 1px 1px);clip: rect(1px, 1px, 1px, 1px);height: 1px;margin: -1px;overflow: hidden;padding: 0;position: absolute;width: 1px;}#sk-container-id-1 div.sk-estimator {font-family: monospace;background-color: #f0f8ff;border: 1px dotted black;border-radius: 0.25em;box-sizing: border-box;margin-bottom: 0.5em;}#sk-container-id-1 div.sk-estimator:hover {background-color: #d4ebff;}#sk-container-id-1 div.sk-parallel-item::after {content: \"\";width: 100%;border-bottom: 1px solid gray;flex-grow: 1;}#sk-container-id-1 div.sk-label:hover label.sk-toggleable__label {background-color: #d4ebff;}#sk-container-id-1 div.sk-serial::before {content: \"\";position: absolute;border-left: 1px solid gray;box-sizing: border-box;top: 0;bottom: 0;left: 50%;z-index: 0;}#sk-container-id-1 div.sk-serial {display: flex;flex-direction: column;align-items: center;background-color: white;padding-right: 0.2em;padding-left: 0.2em;position: relative;}#sk-container-id-1 div.sk-item {position: relative;z-index: 1;}#sk-container-id-1 div.sk-parallel {display: flex;align-items: stretch;justify-content: center;background-color: white;position: relative;}#sk-container-id-1 div.sk-item::before, #sk-container-id-1 div.sk-parallel-item::before {content: \"\";position: absolute;border-left: 1px solid gray;box-sizing: border-box;top: 0;bottom: 0;left: 50%;z-index: -1;}#sk-container-id-1 div.sk-parallel-item {display: flex;flex-direction: column;z-index: 1;position: relative;background-color: white;}#sk-container-id-1 div.sk-parallel-item:first-child::after {align-self: flex-end;width: 50%;}#sk-container-id-1 div.sk-parallel-item:last-child::after {align-self: flex-start;width: 50%;}#sk-container-id-1 div.sk-parallel-item:only-child::after {width: 0;}#sk-container-id-1 div.sk-dashed-wrapped {border: 1px dashed gray;margin: 0 0.4em 0.5em 0.4em;box-sizing: border-box;padding-bottom: 0.4em;background-color: white;}#sk-container-id-1 div.sk-label label {font-family: monospace;font-weight: bold;display: inline-block;line-height: 1.2em;}#sk-container-id-1 div.sk-label-container {text-align: center;}#sk-container-id-1 div.sk-container {/* jupyter's `normalize.less` sets `[hidden] { display: none; }` but bootstrap.min.css set `[hidden] { display: none !important; }` so we also need the `!important` here to be able to override the default hidden behavior on the sphinx rendered scikit-learn.org. See: https://github.com/scikit-learn/scikit-learn/issues/21755 */display: inline-block !important;position: relative;}#sk-container-id-1 div.sk-text-repr-fallback {display: none;}</style><div id=\"sk-container-id-1\" class=\"sk-top-container\"><div class=\"sk-text-repr-fallback\"><pre>SVC(kernel=&#x27;linear&#x27;)</pre><b>In a Jupyter environment, please rerun this cell to show the HTML representation or trust the notebook. <br />On GitHub, the HTML representation is unable to render, please try loading this page with nbviewer.org.</b></div><div class=\"sk-container\" hidden><div class=\"sk-item\"><div class=\"sk-estimator sk-toggleable\"><input class=\"sk-toggleable__control sk-hidden--visually\" id=\"sk-estimator-id-1\" type=\"checkbox\" checked><label for=\"sk-estimator-id-1\" class=\"sk-toggleable__label sk-toggleable__label-arrow\">SVC</label><div class=\"sk-toggleable__content\"><pre>SVC(kernel=&#x27;linear&#x27;)</pre></div></div></div></div></div>"
            ]
          },
          "metadata": {},
          "execution_count": 13
        }
      ]
    },
    {
      "cell_type": "code",
      "source": [
        "y_pred = clf.predict(x_test)\n",
        "# uses the SVM classifier clf to make predictions on the test data x_test, and stores the predicted values in the variable y_pred.\n",
        "# The predict() method in scikit-learn is used to make predictions on new data using a trained machine learning model. \n",
        "# In this case, the predict() method is called on the clf object, which is an instance of the SVC class from the svm module."
      ],
      "metadata": {
        "id": "KxEHPeLtuW1Z"
      },
      "execution_count": 14,
      "outputs": []
    },
    {
      "cell_type": "code",
      "source": [
        "acc = metrics.accuracy_score(y_test, y_pred)\n",
        "# The line of code acc = metrics.accuracy_score(y_test, y_pred) calculates the accuracy of the SVM classifier on the test data.\n",
        "# The accuracy_score() function in scikit-learn is used to compute the accuracy of a classification model.\n",
        "#  In this case, the function is called on the metrics module, which contains various metrics for evaluating the performance of machine learning models."
      ],
      "metadata": {
        "id": "WTm0DOaWu0K6"
      },
      "execution_count": 15,
      "outputs": []
    },
    {
      "cell_type": "code",
      "source": [
        "print(acc)\n",
        "#  prints the accuracy of the SVM classifier on the test data to the console."
      ],
      "metadata": {
        "colab": {
          "base_uri": "https://localhost:8080/"
        },
        "id": "tf4Qo_X-vE55",
        "outputId": "d0c04733-87b3-4114-958f-b61944028ae5"
      },
      "execution_count": 16,
      "outputs": [
        {
          "output_type": "stream",
          "name": "stdout",
          "text": [
            "0.9649122807017544\n"
          ]
        }
      ]
    }
  ]
}